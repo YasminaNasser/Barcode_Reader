{
  "nbformat": 4,
  "nbformat_minor": 0,
  "metadata": {
    "colab": {
      "provenance": [],
      "toc_visible": true,
      "include_colab_link": true
    },
    "kernelspec": {
      "name": "python3",
      "display_name": "Python 3"
    },
    "language_info": {
      "name": "python"
    }
  },
  "cells": [
    {
      "cell_type": "markdown",
      "metadata": {
        "id": "view-in-github",
        "colab_type": "text"
      },
      "source": [
        "<a href=\"https://colab.research.google.com/github/YasminaNasser/Barcode_Reader/blob/main/Copy_of_Barcode_Reader.ipynb\" target=\"_parent\"><img src=\"https://colab.research.google.com/assets/colab-badge.svg\" alt=\"Open In Colab\"/></a>"
      ]
    },
    {
      "cell_type": "markdown",
      "source": [
        "# Imports\n",
        "\n"
      ],
      "metadata": {
        "id": "zPqa2Il87HFJ"
      }
    },
    {
      "cell_type": "code",
      "execution_count": null,
      "metadata": {
        "id": "Pju8iVsK6DIb"
      },
      "outputs": [],
      "source": [
        "import numpy as np\n",
        "import cv2\n",
        "import os\n",
        "from google.colab.patches import cv2_imshow\n",
        "import matplotlib.pyplot as plt\n",
        "from scipy.signal import find_peaks\n",
        "import math\n",
        "from scipy import fftpack\n"
      ]
    },
    {
      "cell_type": "code",
      "source": [
        "\n",
        "from google.colab import drive\n",
        "drive.mount('/content/drive')"
      ],
      "metadata": {
        "id": "2_vmtmE17hqd",
        "colab": {
          "base_uri": "https://localhost:8080/"
        },
        "outputId": "8b0872d1-6dc8-42e8-9523-464151ab0009"
      },
      "execution_count": null,
      "outputs": [
        {
          "output_type": "stream",
          "name": "stdout",
          "text": [
            "Mounted at /content/drive\n"
          ]
        }
      ]
    },
    {
      "cell_type": "markdown",
      "source": [
        "#Helper functions"
      ],
      "metadata": {
        "id": "gyx9en7v8YAt"
      }
    },
    {
      "cell_type": "code",
      "source": [
        "def thresholding(image, value=127):\n",
        "  ret,thresh1 = cv2.threshold(image,value,255,cv2.THRESH_BINARY)\n",
        "  return thresh1\n",
        "\n",
        "def contour(image):\n",
        "    inv = cv2.bitwise_not(image)\n",
        "    x, y, w, h = cv2.boundingRect(inv)\n",
        "\n",
        "    if y == 0 and x == 0 and h == image.shape[0] and w == image.shape[1]:\n",
        "        return image\n",
        "    crop = image[y:y+h-h//4, x:x+w]\n",
        "    return crop\n",
        "\n",
        "\n",
        "def calculate_vertical_bar_height(image):\n",
        "    contoured = contour(image)\n",
        "    if len(contoured.shape) == 2:\n",
        "        height, _ = contoured.shape\n",
        "    else:\n",
        "        height, _, _ = contoured.shape\n",
        "    return height\n",
        "\n",
        "def apply_closing(image):\n",
        "    closed_image = cv2.morphologyEx(image, cv2.MORPH_CLOSE, cv2.getStructuringElement(cv2.MORPH_RECT, (3, 3)))\n",
        "    return closed_image\n",
        "\n",
        "def apply_opening(image, bar_height):\n",
        "    opened_image = cv2.morphologyEx(image, cv2.MORPH_OPEN, cv2.getStructuringElement(cv2.MORPH_RECT, (1, bar_height)))\n",
        "    return opened_image\n",
        "\n",
        "def crop_rows(image, num_rows=2):\n",
        "    if image.shape[0] <= num_rows:\n",
        "        raise ValueError(\"Image has fewer rows than the number of rows to crop.\")\n",
        "    cropped_image = image[num_rows:, :]\n",
        "    return cropped_image\n",
        "\n",
        "def crop_col(image, left_crop, right_crop):\n",
        "    rows, cols = image.shape[:2]\n",
        "\n",
        "    left_crop = max(0, left_crop)\n",
        "    right_crop = max(0, right_crop)\n",
        "    if left_crop + right_crop >= cols:\n",
        "        raise ValueError(\"The total crop (left + right) exceeds the image width.\")\n",
        "\n",
        "    cropped_image = image[:, left_crop:cols-right_crop]\n",
        "    return cropped_image\n",
        "\n",
        "def apply_gaussian(image , count = 1):\n",
        "  gaussian_kernel = np.array([[1, 2, 1],\n",
        "                             [2, 4, 2],\n",
        "                             [1, 2, 1]], dtype=np.float32)\n",
        "  gaussian_kernel /= np.sum(gaussian_kernel)\n",
        "\n",
        "  filtered_image = image\n",
        "  for i in range(count):\n",
        "    filtered_image = cv2.filter2D(image, -1, gaussian_kernel)\n",
        "\n",
        "  return filtered_image\n",
        "\n",
        "def contour_rotated(img):\n",
        "    padded_image = cv2.copyMakeBorder(img, 100, 100, 200, 200, cv2.BORDER_CONSTANT, value=[255, 255, 255])\n",
        "    ret, thresh = cv2.threshold(padded_image, 127, 255, 0)\n",
        "\n",
        "    contours, hierarchy = cv2.findContours(thresh, cv2.RETR_LIST, cv2.CHAIN_APPROX_SIMPLE)\n",
        "\n",
        "    selected_contour = None\n",
        "    for contour in contours:\n",
        "        area = cv2.contourArea(contour)\n",
        "        if 500 <= area <= 800:\n",
        "            selected_contour = contour\n",
        "            break  # Exit the loop once a matching contour is found\n",
        "\n",
        "    if selected_contour is None:\n",
        "        raise ValueError(f\"No contour found within the specified area range: {400}-{600}.\")\n",
        "\n",
        "    rect = cv2.minAreaRect(selected_contour)\n",
        "    box = cv2.boxPoints(rect)\n",
        "    box = np.intp(box)\n",
        "\n",
        "    angle = rect[2]\n",
        "    print(f\"Selected Contour Area: {cv2.contourArea(selected_contour)}\")\n",
        "    print(f\"Angle: {angle}\")\n",
        "\n",
        "    (height, width) = thresh.shape[:2]\n",
        "    center = (width // 2, height // 2)\n",
        "    scale = 1.0\n",
        "    if angle < -45:\n",
        "        angle += 90\n",
        "    rotation_matrix = cv2.getRotationMatrix2D(center, angle - 90, 1.0)\n",
        "    corrected_image = cv2.warpAffine(thresh, rotation_matrix, (width, height), flags=cv2.INTER_CUBIC, borderMode=cv2.BORDER_CONSTANT, borderValue=(255, 255, 255))\n",
        "\n",
        "    return corrected_image\n",
        "\n",
        "def high_pass_filter(fft_shift, cutoff_frequency=30):\n",
        "    rows, cols = fft_shift.shape\n",
        "    mask = np.ones((rows, cols))\n",
        "\n",
        "    center_row, center_col = rows // 2, cols // 2\n",
        "    mask[center_row - cutoff_frequency:center_row + cutoff_frequency,\n",
        "         center_col - cutoff_frequency:center_col + cutoff_frequency] = 0\n",
        "\n",
        "    fft_shift_hp = fft_shift * mask\n",
        "    return fft_shift_hp\n",
        "\n",
        "\n"
      ],
      "metadata": {
        "id": "9-6StThx8dug"
      },
      "execution_count": null,
      "outputs": []
    },
    {
      "cell_type": "markdown",
      "source": [
        "#Detectors 🕵️‍♂️"
      ],
      "metadata": {
        "id": "4-iLY33nBH8t"
      }
    },
    {
      "cell_type": "markdown",
      "source": [
        "##Detect_Blur"
      ],
      "metadata": {
        "id": "6c-bbYpgE6SF"
      }
    },
    {
      "cell_type": "code",
      "source": [
        "def detect_blurred(image):\n",
        "    f_transform = np.fft.fft2(image)\n",
        "    f_transform_shifted = np.fft.fftshift(f_transform)\n",
        "\n",
        "    magnitude_spectrum = 20*np.log(np.abs(f_transform_shifted))\n",
        "    rows, cols = image.shape\n",
        "    center_row = rows // 2\n",
        "    center_col = cols // 2\n",
        "    roi_size = 9\n",
        "    #dc_component = magnitude_spectrum[center_row, center_col]\n",
        "    roi = magnitude_spectrum[center_row - roi_size:center_row + roi_size + 1,\n",
        "                              center_col - roi_size:center_col + roi_size + 1]\n",
        "    avg_roi = round(np.mean(roi))\n",
        "    corner1_avg = round(np.mean(magnitude_spectrum[0:10, 0:10]))\n",
        "    corner2_avg = round(np.mean(magnitude_spectrum[0:10, -10:]))\n",
        "    corner3_avg = round(np.mean(magnitude_spectrum[-10:, 0:10]))\n",
        "    corner4_avg = round(np.mean(magnitude_spectrum[-10:, -10:]))\n",
        "    corners_avg = (corner1_avg + corner2_avg + corner3_avg + corner4_avg) / 4\n",
        "\n",
        "\n",
        "    if(np.mean(magnitude_spectrum[100:-100, 100:-100])== float('-inf')):\n",
        "        return \"FalseINF\"\n",
        "\n",
        "    low_avg_threshold = 235\n",
        "    high_avg_threshold = 90\n",
        "\n",
        "    if(avg_roi > low_avg_threshold and corners_avg < high_avg_threshold):\n",
        "        return True\n",
        "    else:\n",
        "        return False"
      ],
      "metadata": {
        "id": "VTqA4pv5EESk"
      },
      "execution_count": null,
      "outputs": []
    },
    {
      "cell_type": "markdown",
      "source": [
        "##Detect_Brightness"
      ],
      "metadata": {
        "id": "ZT0vX8LJNqF2"
      }
    },
    {
      "cell_type": "code",
      "source": [
        "def detect_high_brightness(image):\n",
        "    pixel_ratio = 0.905\n",
        "    dark_threshold = 20\n",
        "    light_threshold = 220\n",
        "\n",
        "    histogram = cv2.calcHist([image], [0], None, [256], [0, 256])\n",
        "    histogram = histogram / histogram.sum()\n",
        "    light_pixels_ratio = histogram[light_threshold:].sum()\n",
        "    dark_pixels_ratio = histogram[:dark_threshold].sum()\n",
        "\n",
        "    if light_pixels_ratio > pixel_ratio:\n",
        "      return True\n",
        "    else:\n",
        "      return False"
      ],
      "metadata": {
        "id": "8myzYg2qNtnR"
      },
      "execution_count": null,
      "outputs": []
    },
    {
      "cell_type": "code",
      "source": [
        "def detect_low_brightness(image):\n",
        "    pixel_ratio = 0.905\n",
        "    dark_threshold = 20\n",
        "    light_threshold = 220\n",
        "\n",
        "    histogram = cv2.calcHist([image], [0], None, [256], [0, 256])\n",
        "    histogram = histogram / histogram.sum()\n",
        "    light_pixels_ratio = histogram[light_threshold:].sum()\n",
        "    dark_pixels_ratio = histogram[:dark_threshold].sum()\n",
        "    if dark_pixels_ratio > pixel_ratio:\n",
        "      return True\n",
        "    else:\n",
        "      return False"
      ],
      "metadata": {
        "id": "9bBkGuu3yxzH"
      },
      "execution_count": null,
      "outputs": []
    },
    {
      "cell_type": "markdown",
      "source": [
        "##Detect_contrast"
      ],
      "metadata": {
        "id": "E07BW6gTFIQp"
      }
    },
    {
      "cell_type": "code",
      "source": [
        "def detect_contrast(image):\n",
        "  pixel_ratio = 0.8\n",
        "  lower_bound = 100\n",
        "  upper_bound = 200\n",
        "\n",
        "  histogram = cv2.calcHist([image], [0], None, [256], [0, 256])\n",
        "  histogram = histogram / histogram.sum()\n",
        "\n",
        "  grey_pixel_ratio = histogram[lower_bound:upper_bound].sum()\n",
        "  if grey_pixel_ratio > pixel_ratio:\n",
        "    return True\n",
        "  else:\n",
        "    return False"
      ],
      "metadata": {
        "id": "xW6Kdr_SFM8H"
      },
      "execution_count": null,
      "outputs": []
    },
    {
      "cell_type": "markdown",
      "source": [
        "##Detect_Spices"
      ],
      "metadata": {
        "id": "fXNFSclLFlb6"
      }
    },
    {
      "cell_type": "code",
      "source": [
        "def detect_sltnp(image):\n",
        "    f_transform = np.fft.fft2(image)\n",
        "    f_transform_shifted = np.fft.fftshift(f_transform)\n",
        "    magnitude_spectrum = 20*np.log(np.abs(f_transform_shifted))\n",
        "\n",
        "    rows, cols = image.shape\n",
        "    center_row = rows // 2\n",
        "    center_col = cols // 2\n",
        "    roi_size = 9\n",
        "    dc_component = magnitude_spectrum[center_row, center_col]\n",
        "    roi = magnitude_spectrum[center_row - roi_size:center_row + roi_size + 1,\n",
        "                              center_col - roi_size:center_col + roi_size + 1]\n",
        "    avg_roi = round(np.mean(roi))\n",
        "    corner1_avg = round(np.mean(magnitude_spectrum[0:10, 0:10]))\n",
        "    corner2_avg = round(np.mean(magnitude_spectrum[0:10, -10:]))\n",
        "    corner3_avg = round(np.mean(magnitude_spectrum[-10:, 0:10]))\n",
        "    corner4_avg = round(np.mean(magnitude_spectrum[-10:, -10:]))\n",
        "    corners_avg = (corner1_avg + corner2_avg + corner3_avg + corner4_avg) / 4\n",
        "\n",
        "\n",
        "    if(np.mean(magnitude_spectrum[100:-100, 100:-100])== float('-inf')):\n",
        "        return \"FalseINF\"\n",
        "\n",
        "    low_avg_threshold = 200\n",
        "    high_avg_threshold = 200\n",
        "    if(avg_roi > low_avg_threshold and corners_avg > high_avg_threshold):\n",
        "        return True\n",
        "    else:\n",
        "        return False"
      ],
      "metadata": {
        "id": "WBxNPNI7FyBt"
      },
      "execution_count": null,
      "outputs": []
    },
    {
      "cell_type": "markdown",
      "source": [
        "##Detect_Rotation"
      ],
      "metadata": {
        "id": "Op1ZrkGQAck-"
      }
    },
    {
      "cell_type": "code",
      "source": [
        "def is_rotated(img, rotation_threshold=10):\n",
        "\n",
        "    padded_image = cv2.copyMakeBorder(\n",
        "        img, 100, 100, 200, 200, cv2.BORDER_CONSTANT, value=[255]\n",
        "    )\n",
        "\n",
        "    _, thresh = cv2.threshold(padded_image, 60, 255, cv2.THRESH_BINARY_INV)\n",
        "\n",
        "    contours, _ = cv2.findContours(thresh, cv2.RETR_EXTERNAL, cv2.CHAIN_APPROX_SIMPLE)\n",
        "\n",
        "    if not contours:\n",
        "        raise ValueError(\"No contours found in the image.\")\n",
        "\n",
        "    largest_contour = max(contours, key=cv2.contourArea)\n",
        "\n",
        "    rect = cv2.minAreaRect(largest_contour)\n",
        "\n",
        "    # Extract the rotation angle from the rectangle\n",
        "    angle = rect[2]\n",
        "    print(angle)\n",
        "    # Check if the rotation exceeds the threshold\n",
        "    is_rotated = (abs(angle) != rotation_threshold)\n",
        "\n",
        "    return is_rotated"
      ],
      "metadata": {
        "id": "nLXQV0JTBtaN"
      },
      "execution_count": null,
      "outputs": []
    },
    {
      "cell_type": "markdown",
      "source": [
        "##Detect_Frequency"
      ],
      "metadata": {
        "id": "vczV_3ykF7jS"
      }
    },
    {
      "cell_type": "code",
      "source": [
        "def detect_periodic(image):\n",
        "    fft = np.fft.fft2(image)\n",
        "    fft_shift = np.fft.fftshift(fft)\n",
        "    fft_shift= high_pass_filter(fft_shift,5)\n",
        "    magnitude_spectrum = np.abs(fft_shift)\n",
        "\n",
        "    magnitude_spectrum_normalized = cv2.normalize(magnitude_spectrum, None, 0, 255, cv2.NORM_MINMAX)\n",
        "\n",
        "    np.set_printoptions(precision=3, suppress=True)\n",
        "    print(\"Magnitude Spectrum (Normalized):\")\n",
        "    print(magnitude_spectrum_normalized)\n",
        "\n",
        "    max_value = np.max(magnitude_spectrum_normalized)\n",
        "    max_position = np.unravel_index(np.argmax(magnitude_spectrum_normalized), magnitude_spectrum_normalized.shape)\n",
        "\n",
        "    print(f\"Highest Value in Magnitude Spectrum: {max_value}\")\n",
        "    print(f\"Position of Highest Value: {max_position}\")\n",
        "\n",
        "    mean_value = np.mean(magnitude_spectrum_normalized)\n",
        "    std_deviation = np.std(magnitude_spectrum_normalized)\n",
        "    print(std_deviation)\n",
        "\n",
        "    z_score = (max_value - mean_value) / std_deviation\n",
        "    print(f\"Z-score of the Maximum Value: {z_score}\")\n",
        "\n",
        "    if z_score > (50*std_deviation):\n",
        "        return True\n",
        "    else:\n",
        "        return False"
      ],
      "metadata": {
        "id": "XSXCOzgIGBol"
      },
      "execution_count": null,
      "outputs": []
    },
    {
      "cell_type": "markdown",
      "source": [
        "##Detect_Obstacle"
      ],
      "metadata": {
        "id": "NDKV-OubFfLX"
      }
    },
    {
      "cell_type": "code",
      "source": [
        "def obstacle_detection(image):\n",
        "    sobel = cv2.Sobel(image, cv2.CV_64F, 1, 0, ksize=3)\n",
        "    sobel_abs = np.absolute(sobel)\n",
        "    sobel_normalized = np.uint8(255 * sobel_abs / np.max(sobel_abs))\n",
        "    _, binary = cv2.threshold(sobel_normalized, 60, 255, cv2.THRESH_BINARY)\n",
        "    binary = cv2.morphologyEx(binary, cv2.MORPH_CLOSE, cv2.getStructuringElement(cv2.MORPH_RECT, (7, 7)))\n",
        "    vertical_sum = np.sum(binary == 255, axis=0)\n",
        "    dense_columns = vertical_sum > 0.7 * np.max(vertical_sum)\n",
        "    barcode_detected = np.sum(dense_columns) > 50\n",
        "    is_obstructed = False\n",
        "    if barcode_detected:\n",
        "        for i in range(len(vertical_sum)):\n",
        "            if dense_columns[i] and vertical_sum[i] < (np.max(vertical_sum)-70):\n",
        "                is_obstructed = True\n",
        "                break\n",
        "\n",
        "    return is_obstructed"
      ],
      "metadata": {
        "id": "AotUYdSUFmgY"
      },
      "execution_count": null,
      "outputs": []
    },
    {
      "cell_type": "markdown",
      "source": [
        "#Prepocessing Functions"
      ],
      "metadata": {
        "id": "B6ngOqcYGUgQ"
      }
    },
    {
      "cell_type": "markdown",
      "source": [
        "##Remove_Obstacle"
      ],
      "metadata": {
        "id": "bJM4lzltHaUR"
      }
    },
    {
      "cell_type": "code",
      "source": [
        "def remove_Obstacle(gray):\n",
        "  gray[(gray >= 20) & (gray <= 220)] = 255\n",
        "  gray = cv2.morphologyEx(gray, cv2.MORPH_CLOSE, cv2.getStructuringElement(cv2.MORPH_RECT, (2, 2)))\n",
        "  threshed= thresholding(gray)\n",
        "  contoured= contour(threshed)\n",
        "  processed_img = cv2.morphologyEx(contoured, cv2.MORPH_OPEN, cv2.getStructuringElement(cv2.MORPH_RECT, (1, 200)))\n",
        "  return processed_img"
      ],
      "metadata": {
        "id": "OvsWgXP-HfLI"
      },
      "execution_count": null,
      "outputs": []
    },
    {
      "cell_type": "markdown",
      "source": [
        "##Remove_Salt_Pepper_Noise"
      ],
      "metadata": {
        "id": "gnRTM6Y3IB9v"
      }
    },
    {
      "cell_type": "code",
      "source": [
        "def sheel_mal7_wfelfel(image):\n",
        "    blurred_image = cv2.blur(image, (1, 15))\n",
        "    filtered_image = cv2.medianBlur(blurred_image, 5)\n",
        "    _, filtered_thresh = cv2.threshold(filtered_image, 0, 255, cv2.THRESH_BINARY + cv2.THRESH_OTSU)\n",
        "    filtered_thresh = cv2.morphologyEx(filtered_thresh, cv2.MORPH_CLOSE, cv2.getStructuringElement(cv2.MORPH_RECT, (4, 4)))\n",
        "    return filtered_thresh"
      ],
      "metadata": {
        "id": "k3rsF9cHIS8w"
      },
      "execution_count": null,
      "outputs": []
    },
    {
      "cell_type": "markdown",
      "source": [
        "##High_Brightness"
      ],
      "metadata": {
        "id": "5CU7x3fewsje"
      }
    },
    {
      "cell_type": "code",
      "source": [
        "def gamma_correction(image, gamma):\n",
        "    lookUpTable = np.empty((1, 256), np.uint8)\n",
        "    for i in range(256):\n",
        "        lookUpTable[0, i] = np.clip(pow(i / 255.0, gamma) * 255.0, 0, 255)\n",
        "\n",
        "    corrected_image = cv2.LUT(image, lookUpTable)\n",
        "    threshed=thresholding(corrected_image)\n",
        "    return threshed"
      ],
      "metadata": {
        "id": "UN_Mbcdow1yY"
      },
      "execution_count": null,
      "outputs": []
    },
    {
      "cell_type": "markdown",
      "source": [
        "##Low_Brightness"
      ],
      "metadata": {
        "id": "j_W9FQ2Iw7eR"
      }
    },
    {
      "cell_type": "code",
      "source": [
        "def process_dark_barcode(image):\n",
        "\n",
        "    _, binary_image = cv2.threshold(image, 200, 255, cv2.THRESH_BINARY_INV)\n",
        "\n",
        "    inpainted_image = cv2.inpaint(image, binary_image, inpaintRadius=3, flags=cv2.INPAINT_TELEA)\n",
        "\n",
        "    _, bright_mask = cv2.threshold(inpainted_image, 10, 255, cv2.THRESH_BINARY)\n",
        "\n",
        "\n",
        "    lightened_image = np.where(bright_mask == 255,\n",
        "                               np.clip(inpainted_image * 4, 0, 255).astype(np.uint8),\n",
        "                               inpainted_image)\n",
        "\n",
        "    _, binary_result = cv2.threshold(lightened_image, 50, 255, cv2.THRESH_BINARY)\n",
        "\n",
        "    bar_height = calculate_vertical_bar_height(binary_result)\n",
        "\n",
        "    closed_image = apply_closing(binary_result)\n",
        "    opened_image = apply_opening(closed_image, bar_height)\n",
        "    threshed = thresholding(opened_image)\n",
        "\n",
        "\n",
        "    return threshed"
      ],
      "metadata": {
        "id": "TxDrROzPw-2X"
      },
      "execution_count": null,
      "outputs": []
    },
    {
      "cell_type": "markdown",
      "source": [
        "##Adjust_Contrast"
      ],
      "metadata": {
        "id": "V9p1sA4-Ikod"
      }
    },
    {
      "cell_type": "code",
      "source": [
        "def la2ena_el_contrast(imgg) :\n",
        "\n",
        "    histogram = cv2.calcHist([imgg], [0], None, [256], [0, 256])\n",
        "    histogram = histogram / histogram.sum()\n",
        "\n",
        "    histogram_diff = np.diff(histogram.ravel())\n",
        "\n",
        "    peaks, _ = find_peaks(histogram_diff)\n",
        "    peak_values = histogram_diff[peaks]\n",
        "\n",
        "\n",
        "    highest_peaks_indices = peaks[np.argsort(peak_values)[-2:]]\n",
        "    highest_peaks_values = highest_peaks_indices\n",
        "\n",
        "    midpoint_intensity = np.mean(highest_peaks_values)\n",
        "    print(f\"Midpoint intensity: {midpoint_intensity}\")\n",
        "\n",
        "    _, threshed = cv2.threshold(imgg, math.ceil(midpoint_intensity), 255, cv2.THRESH_BINARY)  # Binary threshold\n",
        "\n",
        "    return threshed\n",
        "\n"
      ],
      "metadata": {
        "id": "dO4coDhuIp92"
      },
      "execution_count": null,
      "outputs": []
    },
    {
      "cell_type": "markdown",
      "source": [
        "##Decompresso_Espresso"
      ],
      "metadata": {
        "id": "B6yZ7gucKanA"
      }
    },
    {
      "cell_type": "code",
      "source": [
        "def decompresso_espresso (image):\n",
        "  threshed= thresholding(image)\n",
        "  return cropped"
      ],
      "metadata": {
        "id": "3zcdz19yKhTK"
      },
      "execution_count": null,
      "outputs": []
    },
    {
      "cell_type": "markdown",
      "source": [
        "##Remove_High_Frequency"
      ],
      "metadata": {
        "id": "V796gjotKyoG"
      }
    },
    {
      "cell_type": "code",
      "source": [
        "def periodic_noise_removal(img, threshold=0.1):\n",
        "\n",
        "    fft_image = fftpack.fft2(img)\n",
        "    fft_shifted = fftpack.fftshift(fft_image)\n",
        "\n",
        "    magnitude_spectrum = np.abs(fft_shifted)\n",
        "    max_magnitude = np.max(magnitude_spectrum)\n",
        "\n",
        "    rows, cols = img.shape\n",
        "    crow, ccol = rows // 2, cols // 2\n",
        "\n",
        "    mask = np.ones((rows, cols), dtype=np.float32)\n",
        "    cutoff_magnitude = max_magnitude * threshold\n",
        "\n",
        "    mask[magnitude_spectrum >= cutoff_magnitude] = 0\n",
        "    f_transform_shifted_filtered = fft_shifted * mask\n",
        "\n",
        "\n",
        "    f_transform_filtered = np.fft.ifftshift(f_transform_shifted_filtered)\n",
        "\n",
        "    filtered_image = np.fft.ifft2(f_transform_filtered).real\n",
        "    filtered_image = cv2.normalize(filtered_image, None, 0, 255, cv2.NORM_MINMAX).astype(np.uint8)\n",
        "    threshed = thresholding(filtered_image,105)\n",
        "    return threshed"
      ],
      "metadata": {
        "id": "nkZi7-E1K5L3"
      },
      "execution_count": null,
      "outputs": []
    },
    {
      "cell_type": "markdown",
      "source": [
        "##Sharpen"
      ],
      "metadata": {
        "id": "f5kmBUygOW4X"
      }
    },
    {
      "cell_type": "code",
      "source": [
        "def Sharpen(image):\n",
        "     strength = 0.3\n",
        "     laplacian_kernel = np.array([[0, -1, 0],\n",
        "                                [-1, 5, -1],\n",
        "                                [0, -1, 0]])\n",
        "     laplacian_image = cv2.filter2D(image, -1, laplacian_kernel)\n",
        "     sharpened_image = cv2.addWeighted(image, 1 + strength, laplacian_image, -strength, 0)\n",
        "     _, threshed = cv2.threshold(sharpened_image, 150, 255, cv2.THRESH_BINARY)\n",
        "     return threshed"
      ],
      "metadata": {
        "id": "xGIUeO-WObCd"
      },
      "execution_count": null,
      "outputs": []
    },
    {
      "cell_type": "markdown",
      "source": [
        "#Read Image"
      ],
      "metadata": {
        "id": "8a_c83ki7utv"
      }
    },
    {
      "cell_type": "code",
      "source": [
        "img = cv2.imread(\"/content/01 - lol easy.jpg\",cv2.IMREAD_GRAYSCALE)\n",
        "print(img.shape)\n",
        "cv2_imshow(img)"
      ],
      "metadata": {
        "id": "uF9xIZhy716G",
        "colab": {
          "base_uri": "https://localhost:8080/",
          "height": 635
        },
        "outputId": "ffc90b5c-8ba0-4637-b9af-75c53d8feb13"
      },
      "execution_count": null,
      "outputs": [
        {
          "output_type": "stream",
          "name": "stdout",
          "text": [
            "(600, 800)\n"
          ]
        },
        {
          "output_type": "display_data",
          "data": {
            "text/plain": [
              "<PIL.Image.Image image mode=L size=800x600>"
            ],
            "image/png": "[encoded data removed]",
            "image/jpeg": "[encoded data removed]"
          },
          "metadata": {}
        }
      ]
    },
    {
      "cell_type": "markdown",
      "source": [
        "#Main"
      ],
      "metadata": {
        "id": "WOe-Up6RMPUm"
      }
    },
    {
      "cell_type": "code",
      "source": [
        "\n",
        "Blur_flag = detect_blurred(img)\n",
        "contrast_flag= detect_contrast(img)\n",
        "salt_pepper_flag= detect_sltnp(img)\n",
        "high_Brightness_flag= detect_high_brightness(img)\n",
        "low_Brightness_flag= detect_low_brightness(img)\n",
        "periodic_flag= detect_periodic(img)\n",
        "\n",
        "\n",
        "print(Blur_flag)\n",
        "print(contrast_flag)\n",
        "print(salt_pepper_flag)\n",
        "print(high_Brightness_flag)\n",
        "print(low_Brightness_flag)\n",
        "print(periodic_flag)\n",
        "\n",
        "imgafterpreproc= img.copy()\n",
        "\n",
        "if(periodic_flag==True):\n",
        "    imgafterpreproc= periodic_noise_removal(imgafterpreproc,0.1)\n",
        "if(Blur_flag==True):\n",
        "    imgafterpreproc= Sharpen(img)\n",
        "if(high_Brightness_flag==True):\n",
        "    imgafterpreproc=gamma_correction(imgafterpreproc,30)\n",
        "\n",
        "if(low_Brightness_flag==True):\n",
        "    imgafterpreproc=process_dark_barcode(imgafterpreproc)\n",
        "\n",
        "if(salt_pepper_flag ==True):\n",
        "    imgafterpreproc=sheel_mal7_wfelfel(imgafterpreproc)\n",
        "\n",
        "if(contrast_flag==True):\n",
        "    imgafterpreproc=la2ena_el_contrast(imgafterpreproc)\n",
        "\n",
        "\n",
        "\n",
        "is_rotated_flag= is_rotated(imgafterpreproc,90)\n",
        "print(is_rotated_flag)\n",
        "if(is_rotated_flag==True):\n",
        "   imgafterpreproc=contour_rotated(imgafterpreproc)\n",
        "\n",
        "\n",
        "Obstacle_flag= obstacle_detection(imgafterpreproc)\n",
        "print(Obstacle_flag)\n",
        "if(Obstacle_flag==True):\n",
        "    imgafterpreproc= remove_Obstacle(imgafterpreproc)\n",
        "\n",
        "\n",
        "threshed= thresholding(imgafterpreproc)\n",
        "contoured= contour(threshed)\n",
        "cropped=crop_rows(contoured,3)\n",
        "cv2_imshow(cropped)\n",
        "imgafterpreproc = cv2.morphologyEx(cropped, cv2.MORPH_CLOSE, cv2.getStructuringElement(cv2.MORPH_RECT, (1, 2)))\n",
        "cv2_imshow(imgafterpreproc)\n",
        "height=calculate_vertical_bar_height(imgafterpreproc)\n",
        "imgafterpreproc= apply_opening(imgafterpreproc,height)\n",
        "cv2_imshow(imgafterpreproc)\n",
        "imgafterpreproc = apply_closing(imgafterpreproc)\n",
        "threshed= thresholding(imgafterpreproc)\n",
        "imgafterpreproc= contour(threshed)\n",
        "cv2_imshow(imgafterpreproc)\n",
        "\n",
        "\n",
        "\n",
        "\n",
        "\n",
        "\n",
        "\n",
        "\n",
        "\n",
        "\n",
        "\"\"\"\n",
        "best for last\n",
        "contoured= contour(rotated)\n",
        "final= apply_opening(contoured,200)\n",
        "closed= apply_closing(final,200)\n",
        "cv2_imshow(closed)\n",
        "\"\"\"\n",
        "\n",
        "\n",
        "\"\"\"\n",
        "best organization except for last\n",
        "contoured= contour(imgafterpreproc)\n",
        "cropped=crop_rows(contoured,2)\n",
        "cv2_imshow(cropped)\n",
        "imgafterpreproc = apply_closing(cropped)\n",
        "cv2_imshow(imgafterpreproc)\n",
        "height=calculate_vertical_bar_height(imgafterpreproc)\n",
        "imgafterpreproc= apply_opening(imgafterpreproc,height)\n",
        "cv2_imshow(imgafterpreproc)\n",
        "\"\"\"\n",
        "\n",
        "\n",
        "\n",
        "\n",
        "\n"
      ],
      "metadata": {
        "id": "Zp5HzRt5McMP",
        "colab": {
          "base_uri": "https://localhost:8080/",
          "height": 1000
        },
        "outputId": "3d4866db-202e-43cc-8a54-d81269e7c880"
      },
      "execution_count": null,
      "outputs": [
        {
          "output_type": "stream",
          "name": "stdout",
          "text": [
            "Magnitude Spectrum (Normalized):\n",
            "[[0.084 0.073 0.07  ... 0.077 0.07  0.073]\n",
            " [0.085 0.12  0.1   ... 0.03  0.105 0.127]\n",
            " [0.089 0.071 0.128 ... 0.074 0.038 0.127]\n",
            " ...\n",
            " [0.092 0.086 0.059 ... 0.092 0.075 0.06 ]\n",
            " [0.089 0.127 0.038 ... 0.106 0.128 0.071]\n",
            " [0.085 0.127 0.105 ... 0.034 0.1   0.12 ]]\n",
            "Highest Value in Magnitude Spectrum: 255.0\n",
            "Position of Highest Value: (300, 325)\n",
            "3.126045840418528\n",
            "Z-score of the Maximum Value: 81.35135314082957\n",
            "False\n",
            "False\n",
            "False\n",
            "False\n",
            "False\n",
            "False\n",
            "90.0\n",
            "False\n",
            "False\n"
          ]
        },
        {
          "output_type": "display_data",
          "data": {
            "text/plain": [
              "<PIL.Image.Image image mode=L size=400x183>"
            ],
            "image/png": "[encoded data removed]",
            "image/jpeg": "[encoded data removed]"
          },
          "metadata": {}
        },
        {
          "output_type": "display_data",
          "data": {
            "text/plain": [
              "<PIL.Image.Image image mode=L size=400x183>"
            ],
            "image/png": "[encoded data removed]",
            "image/jpeg": "[encoded data removed]"
          },
          "metadata": {}
        },
        {
          "output_type": "display_data",
          "data": {
            "text/plain": [
              "<PIL.Image.Image image mode=L size=400x183>"
            ],
            "image/png": "[encoded data removed]",
            "image/jpeg": "[encoded data removed]"
          },
          "metadata": {}
        },
        {
          "output_type": "display_data",
          "data": {
            "text/plain": [
              "<PIL.Image.Image image mode=L size=400x183>"
            ],
            "image/png": "[encoded data removed]",
            "image/jpeg": "[encoded data removed]"
          },
          "metadata": {}
        },
        {
          "output_type": "execute_result",
          "data": {
            "text/plain": [
              "'\\nbest organization except for last\\ncontoured= contour(imgafterpreproc)\\ncropped=crop_rows(contoured,2)\\ncv2_imshow(cropped)\\nimgafterpreproc = apply_closing(cropped)\\ncv2_imshow(imgafterpreproc)\\nheight=calculate_vertical_bar_height(imgafterpreproc)\\nimgafterpreproc= apply_opening(imgafterpreproc,height)\\ncv2_imshow(imgafterpreproc)\\n'"
            ],
            "application/vnd.google.colaboratory.intrinsic+json": {
              "type": "string"
            }
          },
          "metadata": {},
          "execution_count": 346
        }
      ]
    },
    {
      "cell_type": "markdown",
      "source": [
        "#Decoder"
      ],
      "metadata": {
        "id": "FVRLzhD0H43H"
      }
    },
    {
      "cell_type": "code",
      "source": [
        "\n",
        "# Define tolerance value\n",
        "TOLERANCE = 1\n",
        "\n",
        "# Define bar width patterns\n",
        "NARROW = \"0\"\n",
        "WIDE = \"1\"\n",
        "\n",
        "code11_widths = {\n",
        "    \"00110\": \"Stop/Start\",\n",
        "    \"10001\": \"1\",\n",
        "    \"01001\": \"2\",\n",
        "    \"11000\": \"3\",\n",
        "    \"00101\": \"4\",\n",
        "    \"10100\": \"5\",\n",
        "    \"01100\": \"6\",\n",
        "    \"00011\": \"7\",\n",
        "    \"10010\": \"8\",\n",
        "    \"10000\": \"9\",\n",
        "    \"00001\": \"0\",\n",
        "    \"00100\": \"-\",\n",
        "}\n",
        "\n",
        "def within_tolerance(width, target_size):\n",
        "    return abs(width - target_size) <= TOLERANCE\n",
        "\n",
        "def decode_barcode(img):\n",
        "    # Get the average of each column in the image\n",
        "    mean = img.mean(axis=0)\n",
        "\n",
        "    # Set pixels to black (1) or white (0) based on threshold\n",
        "    mean[mean <= 127] = 1  # Black\n",
        "    mean[mean > 127] = 0   # White\n",
        "\n",
        "    # Convert to string of pixels\n",
        "    pixels = ''.join(mean.astype(np.uint8).astype(str))\n",
        "\n",
        "    # Measure bar widths\n",
        "    bar_widths = []\n",
        "    count = 1\n",
        "    color = pixels[0]  # Initialize the first color\n",
        "\n",
        "    for i in range(1, len(pixels)):\n",
        "        if pixels[i] == pixels[i - 1]:\n",
        "            count += 1\n",
        "        else:\n",
        "            # Append the current bar with its color and width\n",
        "            bar_widths.append([int(color), count])\n",
        "            color = pixels[i]  # Update the color to the current pixel\n",
        "            count = 1\n",
        "\n",
        "    # Append the last bar\n",
        "    bar_widths.append([int(color), count])\n",
        "\n",
        "    # Determine narrow and wide bar sizes\n",
        "    black_narrow_bar_size = min(bar[1] for bar in bar_widths if bar[0] == 1)\n",
        "    black_wide_bar_size = max(bar[1] for bar in bar_widths if bar[0] == 1)\n",
        "    white_narrow_bar_size = min(bar[1] for bar in bar_widths if bar[0] == 0)\n",
        "    white_wide_bar_size = max(bar[1] for bar in bar_widths if bar[0] == 0)\n",
        "\n",
        "    # Decode the barcode\n",
        "    digits = []\n",
        "    pixel_index = 0\n",
        "    current_digit_widths = \"\"\n",
        "    skip_next = False\n",
        "\n",
        "    while pixel_index < len(pixels):\n",
        "        if skip_next:\n",
        "            if pixels[pixel_index] == '1':\n",
        "                pixel_index += black_narrow_bar_size\n",
        "            else:\n",
        "                pixel_index += white_narrow_bar_size\n",
        "            skip_next = False\n",
        "            continue\n",
        "\n",
        "        count = 1\n",
        "        try:\n",
        "            while pixels[pixel_index] == pixels[pixel_index + 1]:\n",
        "                count += 1\n",
        "                pixel_index += 1\n",
        "        except IndexError:\n",
        "            pass\n",
        "\n",
        "        pixel_index += 1\n",
        "        current_color = 1 if pixels[pixel_index - 1] == '1' else 0\n",
        "\n",
        "        if current_color == 1:  # Black bar\n",
        "            if within_tolerance(count, black_narrow_bar_size):\n",
        "                current_digit_widths += NARROW\n",
        "            elif within_tolerance(count, black_wide_bar_size):\n",
        "                current_digit_widths += WIDE\n",
        "            else:\n",
        "                print(f\"Unclassified black bar width: {count}\")\n",
        "        else:  # White bar\n",
        "            if within_tolerance(count, white_narrow_bar_size):\n",
        "                current_digit_widths += NARROW\n",
        "            elif within_tolerance(count, white_wide_bar_size):\n",
        "                current_digit_widths += WIDE\n",
        "            else:\n",
        "                print(f\"Unclassified white bar width: {count}\")\n",
        "\n",
        "        if current_digit_widths in code11_widths:\n",
        "            digits.append(code11_widths[current_digit_widths])\n",
        "            current_digit_widths = \"\"\n",
        "            skip_next = True  # Next iteration will be a separator, so skip it\n",
        "\n",
        "    return digits\n",
        "\n",
        "\n",
        "decoded_digits = decode_barcode(imgafterpreproc)\n",
        "print(\"Decoded digits:\", decoded_digits)\n"
      ],
      "metadata": {
        "colab": {
          "base_uri": "https://localhost:8080/"
        },
        "id": "KHHuQG0XXPxO",
        "outputId": "c2424ae6-a5db-43f0-af5f-ecb5b1f900d7"
      },
      "execution_count": null,
      "outputs": [
        {
          "output_type": "stream",
          "name": "stdout",
          "text": [
            "Decoded digits: ['Stop/Start', '1', '2', '3', '4', '5', '6', '7', '8', '9', '0', '-', 'Stop/Start']\n"
          ]
        }
      ]
    }
  ]
}